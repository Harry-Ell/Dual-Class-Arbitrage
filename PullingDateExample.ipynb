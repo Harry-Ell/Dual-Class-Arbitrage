{
 "cells": [
  {
   "cell_type": "code",
   "execution_count": 1,
   "metadata": {},
   "outputs": [],
   "source": [
    "import os\n",
    "import requests\n",
    "import pandas as pd\n",
    "from dotenv import load_dotenv"
   ]
  },
  {
   "cell_type": "code",
   "execution_count": 2,
   "metadata": {},
   "outputs": [],
   "source": [
    "load_dotenv()\n",
    "api_key = os.getenv('API_KEY')"
   ]
  },
  {
   "cell_type": "code",
   "execution_count": 16,
   "metadata": {},
   "outputs": [
    {
     "name": "stdout",
     "output_type": "stream",
     "text": [
      "dict_keys(['ticker', 'queryCount', 'resultsCount', 'adjusted', 'results', 'status', 'request_id', 'count'])\n"
     ]
    }
   ],
   "source": [
    "symbol = 'AAPL'\n",
    "date = '2024-07-01'  \n",
    "url = f'https://api.polygon.io/v2/aggs/ticker/{symbol}/range/1/minute/{date}/{date}?apiKey={api_key}'\n",
    "response = requests.get(url)\n",
    "data = response.json()\n",
    "print(data.keys())"
   ]
  },
  {
   "cell_type": "code",
   "execution_count": 17,
   "metadata": {},
   "outputs": [
    {
     "name": "stdout",
     "output_type": "stream",
     "text": [
      "757\n"
     ]
    }
   ],
   "source": [
    "print(data['queryCount'])"
   ]
  },
  {
   "cell_type": "code",
   "execution_count": 21,
   "metadata": {},
   "outputs": [
    {
     "name": "stdout",
     "output_type": "stream",
     "text": [
      "Index(['v', 'vw', 'o', 'c', 'h', 'l', 't', 'n', 'timestamp'], dtype='object')\n"
     ]
    }
   ],
   "source": [
    "# Convert the data to a DataFrame\n",
    "df = pd.DataFrame(data['results'])\n",
    "\n",
    "# Convert the timestamp to a readable date format\n",
    "df['timestamp'] = pd.to_datetime(df['t'], unit='ms')\n",
    "\n",
    "# Display the DataFrame\n",
    "print(df.columns)\n"
   ]
  },
  {
   "cell_type": "code",
   "execution_count": 24,
   "metadata": {},
   "outputs": [
    {
     "name": "stdout",
     "output_type": "stream",
     "text": [
      "   volume  volume weighted average price    open   close    high     low  \\\n",
      "0  2488.0                       211.7585  211.89  211.84  211.89  211.70   \n",
      "1   800.0                       211.6939  211.68  211.68  211.68  211.68   \n",
      "2  1587.0                       211.7885  211.78  211.83  211.83  211.78   \n",
      "3  4499.0                       211.8068  211.83  211.79  211.88  211.79   \n",
      "4  1677.0                       211.6600  211.71  211.71  211.71  211.71   \n",
      "\n",
      "            time  number of transactions           timestamp  \n",
      "0  1719820800000                     168 2024-07-01 08:00:00  \n",
      "1  1719820860000                      44 2024-07-01 08:01:00  \n",
      "2  1719820920000                      37 2024-07-01 08:02:00  \n",
      "3  1719820980000                      51 2024-07-01 08:03:00  \n",
      "4  1719821040000                      68 2024-07-01 08:04:00  \n"
     ]
    }
   ],
   "source": [
    "df.columns = ['volume', 'volume weighted average price', 'open', 'close', 'high', 'low', 'time', 'number of transactions', 'timestamp']\n",
    "print(df.head())"
   ]
  },
  {
   "cell_type": "code",
   "execution_count": null,
   "metadata": {},
   "outputs": [],
   "source": []
  }
 ],
 "metadata": {
  "kernelspec": {
   "display_name": "Python 3",
   "language": "python",
   "name": "python3"
  },
  "language_info": {
   "codemirror_mode": {
    "name": "ipython",
    "version": 3
   },
   "file_extension": ".py",
   "mimetype": "text/x-python",
   "name": "python",
   "nbconvert_exporter": "python",
   "pygments_lexer": "ipython3",
   "version": "3.12.3"
  }
 },
 "nbformat": 4,
 "nbformat_minor": 2
}
