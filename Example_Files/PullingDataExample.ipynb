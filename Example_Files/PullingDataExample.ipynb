{
 "cells": [
  {
   "cell_type": "markdown",
   "metadata": {},
   "source": [
    "This is a now unused method of gathering stock data. It used Polygon.io, which we will not make use of anymore as both the resolution and the comleteness of the data is low."
   ]
  },
  {
   "cell_type": "code",
   "execution_count": 2,
   "metadata": {},
   "outputs": [],
   "source": [
    "import os\n",
    "import requests # type: ignore\n",
    "import pandas as pd  # type: ignore\n",
    "from dotenv import load_dotenv  # type: ignore"
   ]
  },
  {
   "cell_type": "code",
   "execution_count": 3,
   "metadata": {},
   "outputs": [],
   "source": [
    "load_dotenv()\n",
    "api_key = os.getenv('API_KEY')"
   ]
  },
  {
   "cell_type": "code",
   "execution_count": 4,
   "metadata": {},
   "outputs": [
    {
     "name": "stdout",
     "output_type": "stream",
     "text": [
      "dict_keys(['status', 'request_id', 'error'])\n"
     ]
    }
   ],
   "source": [
    "symbol = 'AAPL'\n",
    "date = '2024-07-01'  \n",
    "url = f'https://api.polygon.io/v2/aggs/ticker/{symbol}/range/1/minute/{date}/{date}?apiKey={api_key}'\n",
    "response = requests.get(url)\n",
    "data = response.json()\n",
    "print(data.keys())"
   ]
  },
  {
   "cell_type": "code",
   "execution_count": 4,
   "metadata": {},
   "outputs": [
    {
     "ename": "KeyError",
     "evalue": "'queryCount'",
     "output_type": "error",
     "traceback": [
      "\u001b[1;31m---------------------------------------------------------------------------\u001b[0m",
      "\u001b[1;31mKeyError\u001b[0m                                  Traceback (most recent call last)",
      "Cell \u001b[1;32mIn[4], line 1\u001b[0m\n\u001b[1;32m----> 1\u001b[0m \u001b[38;5;28mprint\u001b[39m(\u001b[43mdata\u001b[49m\u001b[43m[\u001b[49m\u001b[38;5;124;43m'\u001b[39;49m\u001b[38;5;124;43mqueryCount\u001b[39;49m\u001b[38;5;124;43m'\u001b[39;49m\u001b[43m]\u001b[49m)\n",
      "\u001b[1;31mKeyError\u001b[0m: 'queryCount'"
     ]
    }
   ],
   "source": [
    "print(data['queryCount'])"
   ]
  },
  {
   "cell_type": "code",
   "execution_count": null,
   "metadata": {},
   "outputs": [
    {
     "name": "stdout",
     "output_type": "stream",
     "text": [
      "Index(['v', 'vw', 'o', 'c', 'h', 'l', 't', 'n', 'timestamp'], dtype='object')\n"
     ]
    }
   ],
   "source": [
    "# Convert the data to a DataFrame\n",
    "df = pd.DataFrame(data['results'])\n",
    "\n",
    "# Convert the timestamp to a readable date format\n",
    "df['timestamp'] = pd.to_datetime(df['t'], unit='ms')\n",
    "\n",
    "# Display the DataFrame\n",
    "print(df.columns)\n"
   ]
  },
  {
   "cell_type": "code",
   "execution_count": null,
   "metadata": {},
   "outputs": [
    {
     "name": "stdout",
     "output_type": "stream",
     "text": [
      "   volume  volume weighted average price    open   close    high     low  \\\n",
      "0  2488.0                       211.7585  211.89  211.84  211.89  211.70   \n",
      "1   800.0                       211.6939  211.68  211.68  211.68  211.68   \n",
      "2  1587.0                       211.7885  211.78  211.83  211.83  211.78   \n",
      "3  4499.0                       211.8068  211.83  211.79  211.88  211.79   \n",
      "4  1677.0                       211.6600  211.71  211.71  211.71  211.71   \n",
      "\n",
      "            time  number of transactions           timestamp  \n",
      "0  1719820800000                     168 2024-07-01 08:00:00  \n",
      "1  1719820860000                      44 2024-07-01 08:01:00  \n",
      "2  1719820920000                      37 2024-07-01 08:02:00  \n",
      "3  1719820980000                      51 2024-07-01 08:03:00  \n",
      "4  1719821040000                      68 2024-07-01 08:04:00  \n"
     ]
    }
   ],
   "source": [
    "df.columns = ['volume', 'volume weighted average price', 'open', 'close', 'high', 'low', 'time', 'number of transactions', 'timestamp']\n",
    "print(df.head())"
   ]
  },
  {
   "cell_type": "code",
   "execution_count": null,
   "metadata": {},
   "outputs": [],
   "source": []
  }
 ],
 "metadata": {
  "kernelspec": {
   "display_name": "Python 3",
   "language": "python",
   "name": "python3"
  },
  "language_info": {
   "codemirror_mode": {
    "name": "ipython",
    "version": 3
   },
   "file_extension": ".py",
   "mimetype": "text/x-python",
   "name": "python",
   "nbconvert_exporter": "python",
   "pygments_lexer": "ipython3",
   "version": "3.12.3"
  }
 },
 "nbformat": 4,
 "nbformat_minor": 2
}
